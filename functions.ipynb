{
 "cells": [
  {
   "cell_type": "code",
   "execution_count": 1,
   "id": "4b6f981d",
   "metadata": {},
   "outputs": [
    {
     "name": "stdout",
     "output_type": "stream",
     "text": [
      "Friday\n"
     ]
    }
   ],
   "source": [
    "#match expression\n",
    "day=int(input('enter the value for the day'))\n",
    "match day:\n",
    "    case 1:\n",
    "        print(\"Monday\")\n",
    "    case 2:\n",
    "        print(\"Tuesday\")\n",
    "    case 3:\n",
    "        print(\"Wednesday\")\n",
    "    case 4:\n",
    "        print(\"Thursday\")\n",
    "    case 5:\n",
    "        print(\"Friday\")\n",
    "    case 6:\n",
    "        print(\"Saturday\")\n",
    "    case 0:\n",
    "        print(\"Sunday\")\n",
    "    case _:\n",
    "        print(\"invalid_day\")"
   ]
  },
  {
   "cell_type": "code",
   "execution_count": 2,
   "id": "4138fd0b",
   "metadata": {},
   "outputs": [
    {
     "name": "stdout",
     "output_type": "stream",
     "text": [
      "1\n",
      "2\n",
      "while loop completed\n"
     ]
    }
   ],
   "source": [
    "i=1\n",
    "while i<=2:\n",
    "    print(i)\n",
    "    i=i+1\n",
    "else:\n",
    "    print(\"while loop completed\")\n",
    "\n"
   ]
  },
  {
   "cell_type": "code",
   "execution_count": 3,
   "id": "55f5febb",
   "metadata": {},
   "outputs": [
    {
     "name": "stdout",
     "output_type": "stream",
     "text": [
      "a inside function #local variable: 23\n",
      "square of 4: 16\n",
      "a outside function #global variable: 90\n"
     ]
    }
   ],
   "source": [
    "a=90\n",
    "def square(n):\n",
    "    a=23\n",
    "    print('a inside function #local variable:',a)\n",
    "    return n*n\n",
    "print('square of 4:',square(4))\n",
    "print('a outside function #global variable:',a)"
   ]
  },
  {
   "cell_type": "markdown",
   "id": "82f097ad",
   "metadata": {},
   "source": [
    "#if you create variable outside func it is global variable,if you create variable inside func it is local variable\n",
    "#global variable can be used inside and outside function\n",
    "#local variable can be used only inside function\n",
    "#global keyword is used to make local variable global\n",
    "#global keyword is used to make global variable local and modify global variable\n"
   ]
  },
  {
   "cell_type": "code",
   "execution_count": null,
   "id": "7713b526",
   "metadata": {},
   "outputs": [],
   "source": [
    "#function to find word frequency\n",
    "def word_frequency(text):\n",
    "    global words\n",
    "    words = text.lower().split()\n",
    "    freq = {}\n",
    "    for word in words:\n",
    "        freq[word] = freq.get(word, 0) + 1   #get() is used to get the value of the key and making it 0 if not present\n",
    "        #print(freq[word])\n",
    "    return freq\n",
    "\n",
    "sentence = \"Python is fun and Python is easy\"\n",
    "word_frequency(sentence)"
   ]
  },
  {
   "cell_type": "code",
   "execution_count": 3,
   "id": "a55c07e5",
   "metadata": {},
   "outputs": [
    {
     "name": "stdout",
     "output_type": "stream",
     "text": [
      "sum of 2 and 3 is 5\n",
      "4 6 8\n",
      "6 9 12\n"
     ]
    }
   ],
   "source": [
    "\n",
    "#lambda function\n",
    "#it is a anonymous function which takes multiple arguuments and a single expression\n",
    "sum1=lambda a,b:a+b\n",
    "print(\"sum of 2 and 3 is\",sum1(2,3))\n",
    "\n",
    "#lambda func in regular function\n",
    "def multiple(a):\n",
    "    return lambda b:a*b # here lamda function will be returmed\n",
    "table1=multiple(2) #takes a=2,and attaches lambda function to test1\n",
    "print(table1(2),table1(3),table1(4))#here a is fixed and table1 can give multiple variables\n",
    "\n",
    "table2=multiple(3)\n",
    "print(table2(2),table2(3),table2(4))"
   ]
  },
  {
   "cell_type": "code",
   "execution_count": null,
   "id": "ad0e640b",
   "metadata": {},
   "outputs": [],
   "source": [
    "small_letters='abcdefghijklmnopqrstuvwxyz'\n",
    "big_letters='ABCDEFGHIJKLMNOPQRSTUVWXYZ'\n",
    "numbers='0123456789-_'\n",
    "accept_values=small_letters+big_letters+numbers\n",
    "def fun(s):\n",
    "    username=s.split('@')[0]\n",
    "    website=s.split('@')[1].split('.')[0]\n",
    "    domain=s.split('@')[1].split('.')[1]\n",
    "    \n",
    "    if len(domain)<=3:\n",
    "        domain_true=domain\n",
    "    else:\n",
    "        domain_true=' '\n",
    "    def check(str):\n",
    "        count=0\n",
    "        for i in str:\n",
    "            if i in accept_values:\n",
    "                count+=1\n",
    "            else:\n",
    "                break\n",
    "        if count==len(str):\n",
    "            return True\n",
    "        else:\n",
    "            return False\n",
    "    if check(username) and check(website) and check(domain_true):\n",
    "        if '-' in website or '_' in website:\n",
    "            return False\n",
    "        elif domain_true in 'com org in':\n",
    "            return True\n",
    "    return False\n",
    "# mail1='santhoshvijayagiri18@gmail.c-om'\n",
    "# fun(mail1)\n",
    "n=int(input('enter the number of emails'))\n",
    "mail_list=[input() for _ in range(n)]\n",
    "mail_true=list(filter(fun,mail_list))\n",
    "print(mail_true)\n",
    "\n",
    "\n",
    "\n",
    "    \n",
    "        \n",
    "    "
   ]
  }
 ],
 "metadata": {
  "kernelspec": {
   "display_name": "Python 3",
   "language": "python",
   "name": "python3"
  },
  "language_info": {
   "codemirror_mode": {
    "name": "ipython",
    "version": 3
   },
   "file_extension": ".py",
   "mimetype": "text/x-python",
   "name": "python",
   "nbconvert_exporter": "python",
   "pygments_lexer": "ipython3",
   "version": "3.13.7"
  }
 },
 "nbformat": 4,
 "nbformat_minor": 5
}
