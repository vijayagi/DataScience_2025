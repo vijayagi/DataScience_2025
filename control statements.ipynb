{
 "cells": [
  {
   "cell_type": "markdown",
   "id": "0e892311",
   "metadata": {},
   "source": [
    "practice on if-else,for opeartors:\n",
    "a=b,a!=b,a>b,a<b,a>=b,a<=b"
   ]
  },
  {
   "cell_type": "code",
   "execution_count": null,
   "id": "28d1e542",
   "metadata": {},
   "outputs": [],
   "source": [
    "citizen=input('enter your nationality')\n",
    "age=19\n",
    "if citizen.lower()=='indian':\n",
    "    if age>=18:\n",
    "        print('eleigible for vote')\n",
    "    else:\n",
    "        print('not eligible for vote')\n",
    "else:\n",
    "    print('not eligible for vote')"
   ]
  },
  {
   "cell_type": "code",
   "execution_count": null,
   "id": "18f48eeb",
   "metadata": {},
   "outputs": [],
   "source": [
    "#finding factors\n",
    "factors={}\n",
    "for num in range(1,10):\n",
    "    factors[num]=[]\n",
    "    for i in range(2,num):\n",
    "        if num%i==0:\n",
    "            j=num//i\n",
    "            factors[num]=[i,j]\n",
    "    if factors[num]==[]:\n",
    "        factors[num]=[1,num]\n",
    "        print(f'{num} is a prime number')\n",
    "    else:\n",
    "        factors[num].append(1)\n",
    "        factors[num].append(num)\n",
    "        print(f'facotrs of {num} are {factors[num]}')\n",
    "        \n",
    "\n",
    "            "
   ]
  },
  {
   "cell_type": "code",
   "execution_count": null,
   "id": "319c4c44",
   "metadata": {},
   "outputs": [],
   "source": [
    "#triangle pattern\n",
    "rows=5\n",
    "for i in range(rows+1):\n",
    "    print('*'*i)"
   ]
  },
  {
   "cell_type": "code",
   "execution_count": null,
   "id": "dceb235c",
   "metadata": {},
   "outputs": [],
   "source": [
    "rows=5\n",
    "for i in range(rows,0,-1):\n",
    "    print('*'*i)"
   ]
  },
  {
   "cell_type": "code",
   "execution_count": null,
   "id": "ec2110d0",
   "metadata": {},
   "outputs": [],
   "source": [
    "#numerical triangle\n",
    "for i in range(10):\n",
    "    print(f'{i}'*i)"
   ]
  },
  {
   "cell_type": "code",
   "execution_count": null,
   "id": "4c68d1af",
   "metadata": {},
   "outputs": [],
   "source": [
    "#triangle\n",
    "for i in range(6):\n",
    "    if i%2==0:\n",
    "        print(' '*5)\n",
    "    else:\n",
    "        print(' '*((5-i)//2)+'*'*i+' '*((5-i)//2))"
   ]
  },
  {
   "cell_type": "code",
   "execution_count": 1,
   "id": "7f51178b",
   "metadata": {},
   "outputs": [
    {
     "name": "stdout",
     "output_type": "stream",
     "text": [
      "------------.|.------------\n",
      "---------.|..|..|.---------\n",
      "------.|..|..|..|..|.------\n",
      "---.|..|..|..|..|..|..|.---\n",
      "----------WELCOME----------\n",
      "---.|..|..|..|..|..|..|.---\n",
      "------.|..|..|..|..|.------\n",
      "---------.|..|..|.---------\n",
      "------------.|.------------\n"
     ]
    }
   ],
   "source": [
    "#mat design\n",
    "n,m=map(int,(input(\"enter the number of rows and columns\")).split())\n",
    "for i in range(n):\n",
    "    if i<(n//2):\n",
    "        print('-'*(3*(n//2-i))+'.|.'*(2*i+1)+'-'*(3*(n//2-i)))\n",
    "    elif i==n//2:\n",
    "        print('WELCOME'.center(m,'-'))\n",
    "    else:\n",
    "        print('-'*(3*(i-n//2))+'.|.'*(2*(n-i-1)+1)+'-'*(3*(i-n//2)))\n",
    "\n",
    "    \n"
   ]
  }
 ],
 "metadata": {
  "kernelspec": {
   "display_name": "Python 3 (ipykernel)",
   "language": "python",
   "name": "python3"
  },
  "language_info": {
   "codemirror_mode": {
    "name": "ipython",
    "version": 3
   },
   "file_extension": ".py",
   "mimetype": "text/x-python",
   "name": "python",
   "nbconvert_exporter": "python",
   "pygments_lexer": "ipython3",
   "version": "3.9.12"
  }
 },
 "nbformat": 4,
 "nbformat_minor": 5
}
