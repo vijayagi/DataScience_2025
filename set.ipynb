{
 "cells": [
  {
   "cell_type": "code",
   "execution_count": 1,
   "id": "d8e10562",
   "metadata": {},
   "outputs": [
    {
     "name": "stdout",
     "output_type": "stream",
     "text": [
      "{20, 'ds', 10, 'nani', 'apple'}\n",
      "(1, 2, 3, 4, 5)\n",
      "<class 'set'>\n"
     ]
    }
   ],
   "source": [
    "set1={'apple',10,20,'nani','ds'}\n",
    "set2=((1,2,3,4,5))      #with set() constructor and see the double brackets\n",
    "print(set1)\n",
    "print(set2)\n",
    "print(type(set1))"
   ]
  },
  {
   "cell_type": "code",
   "execution_count": 2,
   "id": "b9e5fdde",
   "metadata": {},
   "outputs": [
    {
     "name": "stdout",
     "output_type": "stream",
     "text": [
      "{1, 'nani', 13}\n",
      "{0, 'school', 13}\n"
     ]
    }
   ],
   "source": [
    "#remember set is unordered\n",
    "#set won't allow duplicates\n",
    "#set is unchangeable\n",
    "remember_set={1,True,'nani',13}  #python takes 1 and true as same value\n",
    "remember_set2={0,False,'school',13} #python takes 0 and false as same value\n",
    "print(remember_set)\n",
    "print(remember_set2)\n"
   ]
  },
  {
   "cell_type": "code",
   "execution_count": null,
   "id": "3053570f",
   "metadata": {},
   "outputs": [],
   "source": [
    "\n",
    "#acessing set elements\n",
    "for x in set1:\n",
    "    print(x)\n",
    "print('apple' in set1)     #true\n",
    "print('banana' in set1)    #false"
   ]
  },
  {
   "cell_type": "code",
   "execution_count": 25,
   "id": "6b4f02b0",
   "metadata": {},
   "outputs": [
    {
     "data": {
      "text/plain": [
       "{10, 'banana', 'grapes', 'nani', 'orange'}"
      ]
     },
     "execution_count": 25,
     "metadata": {},
     "output_type": "execute_result"
    }
   ],
   "source": [
    "#once set is created you cannnot change its items\n",
    "#But you can add new items and remove items\n",
    "set1.add('banana')\n",
    "set1.update(['orange','grapes'])\n",
    "set1"
   ]
  },
  {
   "cell_type": "code",
   "execution_count": null,
   "id": "be7a8ce8",
   "metadata": {},
   "outputs": [
    {
     "data": {
      "text/plain": [
       "{'grapes', 'nani', 'orange'}"
      ]
     },
     "execution_count": 27,
     "metadata": {},
     "output_type": "execute_result"
    }
   ],
   "source": [
    "#remove,discard,pop\n",
    "set1.remove('banana')\n",
    "set1.discard('apple')\n",
    "set1.pop() #deletes random value\n",
    "del set1\n",
    "set1"
   ]
  },
  {
   "cell_type": "code",
   "execution_count": 30,
   "id": "eaa5e696",
   "metadata": {},
   "outputs": [
    {
     "name": "stdout",
     "output_type": "stream",
     "text": [
      "{'grapes', 'nani', 'orange'}\n",
      "set()\n"
     ]
    }
   ],
   "source": [
    "set2=set1.copy()\n",
    "print(set2)\n",
    "set1.clear()\n",
    "print(set1)\n"
   ]
  },
  {
   "cell_type": "code",
   "execution_count": 31,
   "id": "26818a48",
   "metadata": {},
   "outputs": [
    {
     "name": "stdout",
     "output_type": "stream",
     "text": [
      "frozenset({'banana', 'cherry', 'apple'})\n"
     ]
    }
   ],
   "source": [
    "#frozenset\n",
    "fruits=frozenset({\"apple\", \"banana\", \"cherry\"}) #create it with constructor\n",
    "print(fruits)\n",
    "\n"
   ]
  },
  {
   "cell_type": "code",
   "execution_count": 32,
   "id": "0e265b15",
   "metadata": {},
   "outputs": [
    {
     "name": "stdout",
     "output_type": "stream",
     "text": [
      "{'grapes', 'nani', 'orange'}\n",
      "{'grapes', 'nani', 'orange'}\n"
     ]
    }
   ],
   "source": [
    "#update,copy\n",
    "set1.update(set2)\n",
    "print(set1)\n",
    "set3=set1.copy()\n",
    "print(set3)\n"
   ]
  }
 ],
 "metadata": {
  "kernelspec": {
   "display_name": "Python 3 (ipykernel)",
   "language": "python",
   "name": "python3"
  },
  "language_info": {
   "codemirror_mode": {
    "name": "ipython",
    "version": 3
   },
   "file_extension": ".py",
   "mimetype": "text/x-python",
   "name": "python",
   "nbconvert_exporter": "python",
   "pygments_lexer": "ipython3",
   "version": "3.9.12"
  }
 },
 "nbformat": 4,
 "nbformat_minor": 5
}
